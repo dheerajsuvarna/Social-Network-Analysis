{
 "cells": [
  {
   "cell_type": "markdown",
   "metadata": {},
   "source": [
    "# Social Computing - Summer 2017\n",
    "\n",
    "# Exercise 6 - Fraud detection in the social capital market\n",
    "\n",
    "Last week you learned that each transaction leads to an increase of the receiver's social capital weight.<p>\n",
    "This week you will try to identify fraudulent behavior within the system. For this you will leverage some of the techniques that you learned in the previous exercise sheets. <p>\n",
    "The fraud detection will work along the following steps:\n",
    "\n",
    "### Steps\n",
    "1) Identify the highest SCWs in the market depending on the topics<p>\n",
    "2) Identify the most frequent transaction pairs (user ids) in the market<p>\n",
    "3) Look at the friends/follower relationships on the social networking platform of the people with the highest SCW<p>\n",
    "4) Compare the activity of the identified people on the social networking platform<p>\n",
    "\n",
    "By following these steps you can identify users who have a high social capital weight, but no support/contributions on the social networking platform. Therefore it is likely that they tried to cheat the system.\n",
    "\n"
   ]
  },
  {
   "cell_type": "code",
   "execution_count": 1,
   "metadata": {
    "collapsed": false
   },
   "outputs": [],
   "source": [
    "#Compile this field first!\n",
    "import pandas as pd\n",
    "import numpy as np\n",
    "from igraph import *\n",
    "df = pd.read_csv('paymenttable_6.csv', sep=',')\n",
    "elggexcell = pd.read_excel(open('FeatureTableDisguised.xlsx','rb'), sheetname='Sheet1')\n",
    "g = Graph.Read_GraphML('FriendshipNetwork.graphml')"
   ]
  },
  {
   "cell_type": "markdown",
   "metadata": {},
   "source": [
    "### Voluntary: Introduction\n",
    "Import your \"density\" function here and compile the code. Are there any changes compared to last week?<p>\n",
    "We expect people who push their SCW to have only a few transaction partners, so they would have a ratio of close to 100%. As there are many users with such high ratios the density is not sufficient to determine fraudulent behavior."
   ]
  },
  {
   "cell_type": "code",
   "execution_count": 6,
   "metadata": {
    "collapsed": false
   },
   "outputs": [],
   "source": [
    "from __future__ import division\n"
   ]
  },
  {
   "cell_type": "markdown",
   "metadata": {},
   "source": [
    "# Problem 1: Step 1 - Identification of user's with high SCW\n",
    "Identify the highest SCWs in the market depending on the topics!<p>\n",
    "The result should be a table with the topic ID, the SCW new of the receiver, and the receiver ID.<p>\n",
    "Hint: Make sure that the transfer value is larger than 0 and that receiver ID and sender ID are not the same."
   ]
  },
  {
   "cell_type": "code",
   "execution_count": 7,
   "metadata": {
    "collapsed": false
   },
   "outputs": [
    {
     "data": {
      "text/html": [
       "<div>\n",
       "<table border=\"1\" class=\"dataframe\">\n",
       "  <thead>\n",
       "    <tr style=\"text-align: right;\">\n",
       "      <th></th>\n",
       "      <th>Topic ID</th>\n",
       "      <th>SCW new of receiver</th>\n",
       "      <th>Receiver ID</th>\n",
       "    </tr>\n",
       "  </thead>\n",
       "  <tbody>\n",
       "    <tr>\n",
       "      <th>0</th>\n",
       "      <td>1</td>\n",
       "      <td>1.645000</td>\n",
       "      <td>217</td>\n",
       "    </tr>\n",
       "    <tr>\n",
       "      <th>5</th>\n",
       "      <td>2</td>\n",
       "      <td>21.550537</td>\n",
       "      <td>97</td>\n",
       "    </tr>\n",
       "    <tr>\n",
       "      <th>3</th>\n",
       "      <td>3</td>\n",
       "      <td>1.830000</td>\n",
       "      <td>47</td>\n",
       "    </tr>\n",
       "    <tr>\n",
       "      <th>2</th>\n",
       "      <td>4</td>\n",
       "      <td>4.892450</td>\n",
       "      <td>242</td>\n",
       "    </tr>\n",
       "    <tr>\n",
       "      <th>1</th>\n",
       "      <td>5</td>\n",
       "      <td>3.968922</td>\n",
       "      <td>242</td>\n",
       "    </tr>\n",
       "    <tr>\n",
       "      <th>4</th>\n",
       "      <td>6</td>\n",
       "      <td>5.927137</td>\n",
       "      <td>242</td>\n",
       "    </tr>\n",
       "  </tbody>\n",
       "</table>\n",
       "</div>"
      ],
      "text/plain": [
       "   Topic ID  SCW new of receiver  Receiver ID\n",
       "0         1             1.645000          217\n",
       "5         2            21.550537           97\n",
       "3         3             1.830000           47\n",
       "2         4             4.892450          242\n",
       "1         5             3.968922          242\n",
       "4         6             5.927137          242"
      ]
     },
     "execution_count": 7,
     "metadata": {},
     "output_type": "execute_result"
    }
   ],
   "source": [
    "# For each topic (1 to 6), identify the user (Receiver ID) with the highest SCW in the market\n",
    "where_clause = ((df['Transfer Value'] > 0) & (df['Sender ID'] != df['Receiver ID']))\n",
    "test = df[where_clause].groupby(['Topic ID'])['SCW new of receiver'].max().reset_index()\n",
    "result = pd.merge(df, test, on=['Topic ID','SCW new of receiver'])\n",
    "columns = ['Topic ID','SCW new of receiver','Receiver ID']\n",
    "output_res = result.sort_values(['Topic ID'],ascending = [True])[columns]\n",
    "output_res"
   ]
  },
  {
   "cell_type": "markdown",
   "metadata": {},
   "source": [
    "Who is the person with the highest social capital weight (regardless of category)?"
   ]
  },
  {
   "cell_type": "markdown",
   "metadata": {
    "collapsed": true
   },
   "source": [
    "The person with receiver ID 97 has the highest social captial weight."
   ]
  },
  {
   "cell_type": "markdown",
   "metadata": {},
   "source": [
    "# Problem 2: Step 2 - identification of the main transaction partners\n",
    "Identify the most frequent transaction pairs in the market system. Therefore, create a table that shows the IDs of the two users and number of transactions between them. Display the top three transaction pairs in each topic. \n",
    "\n",
    "Is there an overlap between the results from step 1? E.g., are the users with high social capital also in the new list?"
   ]
  },
  {
   "cell_type": "code",
   "execution_count": 8,
   "metadata": {
    "collapsed": false
   },
   "outputs": [
    {
     "name": "stdout",
     "output_type": "stream",
     "text": [
      "    Topic ID  Sender ID  Receiver ID  Count\n",
      "0          1          1           92      3\n",
      "37         1        217          218      3\n",
      "18         1         45           46      2\n",
      "     Topic ID  Sender ID  Receiver ID  Count\n",
      "105         2         96           97     12\n",
      "123         2        118          123      4\n",
      "73          2         34          136      3\n",
      "     Topic ID  Sender ID  Receiver ID  Count\n",
      "189         3        102          103      2\n",
      "195         3        116          118      2\n",
      "199         3        136          140      2\n",
      "     Topic ID  Sender ID  Receiver ID  Count\n",
      "253         4         69           70      4\n",
      "211         4          2           64      3\n",
      "231         4         34          140      3\n",
      "     Topic ID  Sender ID  Receiver ID  Count\n",
      "358         5        217          218      4\n",
      "300         5          7           46      3\n",
      "299         5          7           45      2\n",
      "     Topic ID  Sender ID  Receiver ID  Count\n",
      "366         6          2          194      6\n",
      "398         6         27          242      4\n",
      "377         6          7           46      3\n"
     ]
    }
   ],
   "source": [
    "#your code here\n",
    "\n",
    "pairs = [str(sorted([a,b])) for a,b in zip(df['Receiver ID'], df['Sender ID'])]\n",
    "# note that you have to convert the sorted list to a string, otherwise drop_duplicates won't work...\n",
    "\n",
    "df['Partner IDs'] = pairs\n",
    "noduplicates = df.drop(['Receiver ID', 'Sender ID'], axis=1).drop_duplicates()\n",
    "\n",
    "\n",
    "noduplicates['Sender ID'] = noduplicates['Partner IDs'].str[1:-1].str.split(',', expand=True).astype(int)[0]\n",
    "noduplicates['Receiver ID'] = noduplicates['Partner IDs'].str[1:-1].str.split(',', expand=True).astype(int)[1]\n",
    "finalres = noduplicates[where_clause].groupby(['Topic ID','Sender ID','Receiver ID'])['Transfer ID'].count().reset_index()\n",
    "out = finalres.sort_values(['Topic ID','Transfer ID'], ascending = False)\n",
    "out.columns = ['Topic ID','Sender ID','Receiver ID','Count']\n",
    "for topic in range(1,7):\n",
    "    print out.loc[out['Topic ID']==topic].head(3)"
   ]
  },
  {
   "cell_type": "markdown",
   "metadata": {},
   "source": [
    "Is the user with the highest social capital weight (as identified in step 1) also present in this table? \n",
    "If so, who is her/his main transaction partner?"
   ]
  },
  {
   "cell_type": "markdown",
   "metadata": {
    "collapsed": true
   },
   "source": [
    "1)Yes, the user with highest social capital weight (97) is also present in this table.\n",
    "2)Main Transaction partner - 96 "
   ]
  },
  {
   "cell_type": "markdown",
   "metadata": {},
   "source": [
    "# Problem 3: Step 3 - Compare the results to the relationship graph\n",
    "\n",
    "In step 1 and 2 you identified the users with the highest social capital weight and the main transaction partners in the market system. Now we want to verify if their high social capital weight is deserved (because of many good interactions on the social networking platform) or if it should be flagged as fraudulent. <p>\n",
    "\n",
    "At first we want to look at the friends/follower network surounding the identified pairs. <b> Plot a subgraph of the FriendshipNetwork.graphml that displays the relationship between the user with the highest social capital weight and the main transaction partner, as well as all their neighboring nodes (connected via a friend/follower relationship). </b>\n",
    "\n",
    "<b>Compare this network to some of the other transaction pairs identified in step 2. What do you notice? (1-2 sentences) </b> \n",
    "\n",
    "If you get the error \"ValueError: no such vertex: '218'\" don't worry and just try another pair. This is due to the fact that sometimes we still don't have a correct matching between the social networking platform and the market system. Spoiler: this person is not the cheater that we planted."
   ]
  },
  {
   "cell_type": "code",
   "execution_count": 9,
   "metadata": {
    "collapsed": false
   },
   "outputs": [
    {
     "ename": "NameError",
     "evalue": "name 'vert1' is not defined",
     "output_type": "error",
     "traceback": [
      "\u001b[0;31m---------------------------------------------------------------------------\u001b[0m",
      "\u001b[0;31mNameError\u001b[0m                                 Traceback (most recent call last)",
      "\u001b[0;32m<ipython-input-9-f1a4bedd750e>\u001b[0m in \u001b[0;36m<module>\u001b[0;34m()\u001b[0m\n\u001b[1;32m      8\u001b[0m \u001b[0mvertex1\u001b[0m \u001b[1;33m=\u001b[0m \u001b[0mg\u001b[0m\u001b[1;33m.\u001b[0m\u001b[0mvs\u001b[0m\u001b[1;33m.\u001b[0m\u001b[0mfind\u001b[0m\u001b[1;33m(\u001b[0m\u001b[0mname\u001b[0m \u001b[1;33m=\u001b[0m \u001b[0mstr\u001b[0m\u001b[1;33m(\u001b[0m\u001b[1;36m96\u001b[0m\u001b[1;33m)\u001b[0m\u001b[1;33m)\u001b[0m\u001b[1;33m.\u001b[0m\u001b[0mindex\u001b[0m\u001b[1;33m\u001b[0m\u001b[0m\n\u001b[1;32m      9\u001b[0m \u001b[0mvertex2\u001b[0m \u001b[1;33m=\u001b[0m \u001b[0mg\u001b[0m\u001b[1;33m.\u001b[0m\u001b[0mvs\u001b[0m\u001b[1;33m.\u001b[0m\u001b[0mfind\u001b[0m\u001b[1;33m(\u001b[0m\u001b[0mname\u001b[0m \u001b[1;33m=\u001b[0m \u001b[0mstr\u001b[0m\u001b[1;33m(\u001b[0m\u001b[1;36m97\u001b[0m\u001b[1;33m)\u001b[0m\u001b[1;33m)\u001b[0m\u001b[1;33m.\u001b[0m\u001b[0mindex\u001b[0m\u001b[1;33m\u001b[0m\u001b[0m\n\u001b[0;32m---> 10\u001b[0;31m \u001b[0mplot\u001b[0m\u001b[1;33m(\u001b[0m\u001b[0mg\u001b[0m\u001b[1;33m.\u001b[0m\u001b[0msubgraph\u001b[0m\u001b[1;33m(\u001b[0m\u001b[1;33m[\u001b[0m\u001b[0mvert1\u001b[0m\u001b[1;33m,\u001b[0m \u001b[0mvert2\u001b[0m\u001b[1;33m]\u001b[0m\u001b[1;33m+\u001b[0m \u001b[0mg\u001b[0m\u001b[1;33m.\u001b[0m\u001b[0mneighbors\u001b[0m\u001b[1;33m(\u001b[0m\u001b[0mvertex1\u001b[0m\u001b[1;33m)\u001b[0m\u001b[1;33m+\u001b[0m \u001b[0mg\u001b[0m\u001b[1;33m.\u001b[0m\u001b[0mneighbors\u001b[0m\u001b[1;33m(\u001b[0m\u001b[0mvertex2\u001b[0m\u001b[1;33m)\u001b[0m\u001b[1;33m,\u001b[0m\u001b[1;34m\"create_from_scratch\"\u001b[0m\u001b[1;33m)\u001b[0m\u001b[1;33m,\u001b[0m \u001b[1;33m**\u001b[0m\u001b[0mvisual_style\u001b[0m\u001b[1;33m)\u001b[0m\u001b[1;33m\u001b[0m\u001b[0m\n\u001b[0m",
      "\u001b[0;31mNameError\u001b[0m: name 'vert1' is not defined"
     ]
    }
   ],
   "source": [
    "#your code here\n",
    "visual_style = {}\n",
    "visual_style[\"vertex_size\"] = 30\n",
    "visual_style[\"vertex_label\"] = g.vs[\"name\"]\n",
    "# replace g with your graphname!\n",
    "visual_style[\"bbox\"] = (800,800)\n",
    "visual_style[\"margin\"] = 50\n",
    "vertex1 = g.vs.find(name = str(96)).index\n",
    "vertex2 = g.vs.find(name = str(97)).index\n",
    "plot(g.subgraph([vert1, vert2]+ g.neighbors(vertex1)+ g.neighbors(vertex2),\"create_from_scratch\"), **visual_style)\n"
   ]
  },
  {
   "cell_type": "markdown",
   "metadata": {
    "collapsed": true
   },
   "source": [
    "Answer: This is definetly suspicious, as 96 and 97 have no other friends or neighbouring nodes other than each other.This looks almost a clear case of fraudent activity, where these two have increased their socail capital. When I plotted the subgraph for the pair 2 and 194, who had second highest number of transactions, they both had many neighbouring nodes. "
   ]
  },
  {
   "cell_type": "markdown",
   "metadata": {},
   "source": [
    "# Problem 4: Step 4 - Compare the results to the interaction patterns"
   ]
  },
  {
   "cell_type": "markdown",
   "metadata": {},
   "source": [
    "Now we want to have a closer look at the interactions of the user with the highest social capital weight on the social networking platform. <b>Using the table \"FeatureTableDisguised.xlsx\" display this user's number of posts (Posts), number of comments (Comments), the likes received on posts (Likes_OnPosts) and comments (Likes_OnComments), as well as the number of friends (Friends) and followers (Followers).</b> <p>\n",
    "Compare this to some of the other users with high social capital. (1-3 sentences)"
   ]
  },
  {
   "cell_type": "code",
   "execution_count": 12,
   "metadata": {
    "collapsed": false
   },
   "outputs": [
    {
     "data": {
      "text/html": [
       "<div>\n",
       "<table border=\"1\" class=\"dataframe\">\n",
       "  <thead>\n",
       "    <tr style=\"text-align: right;\">\n",
       "      <th></th>\n",
       "      <th>User ID</th>\n",
       "      <th>Posts</th>\n",
       "      <th>Comments</th>\n",
       "      <th>Likes_OnPosts</th>\n",
       "      <th>Likes_OnComments</th>\n",
       "      <th>Friends</th>\n",
       "      <th>Followers</th>\n",
       "      <th>Comments recOnPosts</th>\n",
       "      <th>ToCHARposts</th>\n",
       "      <th>ToCHARcomments</th>\n",
       "    </tr>\n",
       "  </thead>\n",
       "  <tbody>\n",
       "    <tr>\n",
       "      <th>46</th>\n",
       "      <td>47</td>\n",
       "      <td>1</td>\n",
       "      <td>8</td>\n",
       "      <td>3</td>\n",
       "      <td>9</td>\n",
       "      <td>8</td>\n",
       "      <td>16</td>\n",
       "      <td>1</td>\n",
       "      <td>730</td>\n",
       "      <td>1427</td>\n",
       "    </tr>\n",
       "    <tr>\n",
       "      <th>92</th>\n",
       "      <td>97</td>\n",
       "      <td>0</td>\n",
       "      <td>0</td>\n",
       "      <td>0</td>\n",
       "      <td>0</td>\n",
       "      <td>0</td>\n",
       "      <td>0</td>\n",
       "      <td>0</td>\n",
       "      <td>0</td>\n",
       "      <td>0</td>\n",
       "    </tr>\n",
       "    <tr>\n",
       "      <th>208</th>\n",
       "      <td>217</td>\n",
       "      <td>12</td>\n",
       "      <td>14</td>\n",
       "      <td>9</td>\n",
       "      <td>5</td>\n",
       "      <td>1</td>\n",
       "      <td>3</td>\n",
       "      <td>39</td>\n",
       "      <td>1165</td>\n",
       "      <td>597</td>\n",
       "    </tr>\n",
       "    <tr>\n",
       "      <th>229</th>\n",
       "      <td>242</td>\n",
       "      <td>8</td>\n",
       "      <td>68</td>\n",
       "      <td>34</td>\n",
       "      <td>33</td>\n",
       "      <td>347</td>\n",
       "      <td>98</td>\n",
       "      <td>23</td>\n",
       "      <td>1039</td>\n",
       "      <td>6755</td>\n",
       "    </tr>\n",
       "  </tbody>\n",
       "</table>\n",
       "</div>"
      ],
      "text/plain": [
       "     User ID  Posts  Comments  Likes_OnPosts  Likes_OnComments  Friends  \\\n",
       "46        47      1         8              3                 9        8   \n",
       "92        97      0         0              0                 0        0   \n",
       "208      217     12        14              9                 5        1   \n",
       "229      242      8        68             34                33      347   \n",
       "\n",
       "     Followers  Comments recOnPosts  ToCHARposts  ToCHARcomments  \n",
       "46          16                    1          730            1427  \n",
       "92           0                    0            0               0  \n",
       "208          3                   39         1165             597  \n",
       "229         98                   23         1039            6755  "
      ]
     },
     "execution_count": 12,
     "metadata": {},
     "output_type": "execute_result"
    }
   ],
   "source": [
    "#your code here\n",
    "elggexcell[(elggexcell[\"User ID\"]==97) | (elggexcell[\"User ID\"]==242) | (elggexcell[\"User ID\"]==217) | (elggexcell[\"User ID\"]==47)]\n"
   ]
  },
  {
   "cell_type": "code",
   "execution_count": null,
   "metadata": {
    "collapsed": true
   },
   "outputs": [],
   "source": [
    "#your answer here\n",
    "As observed on the above table, the user with the highest social captial weight (97), has 0 likes, 0 comments, 0 posts \n",
    "0 friends etc. He has literally zero socail interaction and has inflated his social capital by fraudent means.\n",
    "The user with the second highest SCW (242), looks to be quite active on the platform with 347 friends, 8 posts,\n",
    "68 comments etc.Thus looks like he has been rewarded with socail capital.\n"
   ]
  },
  {
   "cell_type": "markdown",
   "metadata": {},
   "source": [
    "# Voluntary: Problem 5 - Summary\n",
    "You identified a pair of users with a abnormally high social capital weight and had a look at their interactions in the social network.\n",
    "\n",
    "How did they manage to artificially inflate their social capital weight? (1-3 sentences)\n",
    "\n",
    "What can be done to prevent it? (3-5 sentences)"
   ]
  },
  {
   "cell_type": "markdown",
   "metadata": {},
   "source": [
    "#Your answer here\n",
    "\n"
   ]
  }
 ],
 "metadata": {
  "anaconda-cloud": {},
  "kernelspec": {
   "display_name": "Python 2",
   "language": "python",
   "name": "python2"
  },
  "language_info": {
   "codemirror_mode": {
    "name": "ipython",
    "version": 2
   },
   "file_extension": ".py",
   "mimetype": "text/x-python",
   "name": "python",
   "nbconvert_exporter": "python",
   "pygments_lexer": "ipython2",
   "version": "2.7.13"
  }
 },
 "nbformat": 4,
 "nbformat_minor": 1
}
